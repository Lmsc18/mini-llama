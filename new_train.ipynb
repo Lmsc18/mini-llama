{
 "cells": [
  {
   "cell_type": "code",
   "execution_count": 1,
   "metadata": {},
   "outputs": [],
   "source": [
    "import torch\n",
    "from model.config import TSConfig\n",
    "from model.modules.transformer import Transformer\n",
    "import numpy as np\n",
    "from utils import *\n",
    "data_dir='data'\n",
    "device='mps'\n",
    "device_type='mps'"
   ]
  },
  {
   "cell_type": "code",
   "execution_count": 2,
   "metadata": {},
   "outputs": [],
   "source": [
    "batch_size=4\n",
    "config=TSConfig()\n",
    "learning_rate = 1e-2\n",
    "train_data = np.memmap(os.path.join(data_dir, 'train.bin'), dtype=np.uint16, mode='r')\n",
    "total_positions = len(train_data) - config.seq_len\n",
    "total_batches = total_positions // batch_size"
   ]
  },
  {
   "cell_type": "code",
   "execution_count": 3,
   "metadata": {},
   "outputs": [],
   "source": [
    "decoder_model=Transformer(config)\n",
    "dm=decoder_model.to(device)\n",
    "\n",
    "optimizer = torch.optim.AdamW(decoder_model.parameters(), lr=learning_rate)\n",
    "scheduler = torch.optim.lr_scheduler.CosineAnnealingLR(optimizer, T_max=total_batches, eta_min=1e-7)"
   ]
  },
  {
   "cell_type": "code",
   "execution_count": 4,
   "metadata": {},
   "outputs": [],
   "source": [
    "# Define checkpoint paths and frequency\n",
    "checkpoint_dir = \"checkpoints\"\n",
    "checkpoint_frequency = 80000000\n",
    "os.makedirs(checkpoint_dir, exist_ok=True)\n",
    "\n",
    "# Try to load the latest checkpoint if exists\n",
    "latest_checkpoint = os.path.join(checkpoint_dir, \"latest_checkpoint.pt\")\n",
    "\n",
    "start_iter = 0\n",
    "if os.path.exists(latest_checkpoint):\n",
    "    try:\n",
    "        start_iter = load_checkpoint(latest_checkpoint, decoder_model, optimizer)\n",
    "        # Reset scheduler to the right step\n",
    "        for _ in range(start_iter):\n",
    "            optimizer.step()\n",
    "            scheduler.step()\n",
    "        print(f\"Resuming training from iteration {start_iter}\")\n",
    "    except Exception as e:\n",
    "        print(f\"Failed to load checkpoint: {e}\")"
   ]
  },
  {
   "cell_type": "code",
   "execution_count": 5,
   "metadata": {},
   "outputs": [
    {
     "name": "stdout",
     "output_type": "stream",
     "text": [
      "batch 0/118116288: loss 77.0888, lr: 0.010000\n",
      "batch 1/118116288: loss 71.6253, lr: 0.010000\n",
      "batch 2/118116288: loss 70.1893, lr: 0.010000\n",
      "batch 3/118116288: loss 66.6399, lr: 0.010000\n",
      "batch 4/118116288: loss 64.0277, lr: 0.010000\n",
      "batch 5/118116288: loss 60.1944, lr: 0.010000\n",
      "batch 6/118116288: loss 58.5060, lr: 0.010000\n",
      "batch 7/118116288: loss 56.2927, lr: 0.010000\n",
      "batch 8/118116288: loss 54.3184, lr: 0.010000\n",
      "batch 9/118116288: loss 50.4472, lr: 0.010000\n",
      "batch 10/118116288: loss 49.6095, lr: 0.010000\n",
      "batch 11/118116288: loss 45.8731, lr: 0.010000\n",
      "batch 12/118116288: loss 44.2853, lr: 0.010000\n",
      "batch 13/118116288: loss 42.0356, lr: 0.010000\n",
      "batch 14/118116288: loss 39.3946, lr: 0.010000\n",
      "batch 15/118116288: loss 36.5183, lr: 0.010000\n",
      "batch 16/118116288: loss 35.5782, lr: 0.010000\n",
      "batch 17/118116288: loss 33.5926, lr: 0.010000\n",
      "batch 18/118116288: loss 31.7190, lr: 0.010000\n",
      "batch 19/118116288: loss 30.7105, lr: 0.010000\n",
      "batch 20/118116288: loss 31.0092, lr: 0.010000\n",
      "batch 21/118116288: loss 28.9269, lr: 0.010000\n",
      "batch 22/118116288: loss 28.1745, lr: 0.010000\n",
      "batch 23/118116288: loss 26.3028, lr: 0.010000\n",
      "batch 24/118116288: loss 23.4875, lr: 0.010000\n",
      "batch 25/118116288: loss 22.7905, lr: 0.010000\n",
      "batch 26/118116288: loss 21.4450, lr: 0.010000\n",
      "batch 27/118116288: loss 21.6953, lr: 0.010000\n",
      "batch 28/118116288: loss 21.1356, lr: 0.010000\n",
      "batch 29/118116288: loss 19.0767, lr: 0.010000\n",
      "batch 30/118116288: loss 18.8860, lr: 0.010000\n",
      "batch 31/118116288: loss 18.5603, lr: 0.010000\n",
      "batch 32/118116288: loss 17.4025, lr: 0.010000\n",
      "batch 33/118116288: loss 17.5140, lr: 0.010000\n",
      "batch 34/118116288: loss 16.1046, lr: 0.010000\n",
      "batch 35/118116288: loss 15.0458, lr: 0.010000\n",
      "batch 36/118116288: loss 14.7556, lr: 0.010000\n",
      "batch 37/118116288: loss 14.5246, lr: 0.010000\n",
      "batch 38/118116288: loss 16.3803, lr: 0.010000\n",
      "batch 39/118116288: loss 14.1539, lr: 0.010000\n",
      "batch 40/118116288: loss 13.6094, lr: 0.010000\n",
      "batch 41/118116288: loss 13.2991, lr: 0.010000\n",
      "batch 42/118116288: loss 12.5476, lr: 0.010000\n",
      "batch 43/118116288: loss 13.3238, lr: 0.010000\n",
      "batch 44/118116288: loss 13.8623, lr: 0.010000\n",
      "batch 45/118116288: loss 14.3309, lr: 0.010000\n",
      "batch 46/118116288: loss 13.2708, lr: 0.010000\n",
      "batch 47/118116288: loss 12.3574, lr: 0.010000\n",
      "batch 48/118116288: loss 13.1424, lr: 0.010000\n",
      "batch 49/118116288: loss 11.8179, lr: 0.010000\n",
      "batch 50/118116288: loss 10.9543, lr: 0.010000\n"
     ]
    }
   ],
   "source": [
    "total_iter = start_iter\n",
    "for batch_idx in range(start_iter, total_batches):\n",
    "    total_iter += 1\n",
    "    # Get sequential batch\n",
    "    xb, yb = get_batch('train', batch_size, config.seq_len,device, batch_idx)\n",
    "    # evaluate the loss\n",
    "    logits, loss = decoder_model(xb, yb)\n",
    "    optimizer.zero_grad(set_to_none=True)\n",
    "    loss.backward()\n",
    "    norm = torch.nn.utils.clip_grad_norm_(decoder_model.parameters(), 1.0)\n",
    "    optimizer.step()\n",
    "    scheduler.step()\n",
    "    \n",
    "    # Print loss after every step\n",
    "    print(f\"batch {batch_idx}/{total_batches}: loss {loss.item():.4f}, lr: {scheduler.get_last_lr()[0]:.6f}\")\n",
    "    \n",
    "    # Save checkpoint at regular intervals\n",
    "    # if batch_idx % checkpoint_frequency == 0 or batch_idx == total_batches - 1:\n",
    "    #     checkpoint_path = os.path.join(checkpoint_dir, f\"checkpoint_{batch_idx}.pt\")\n",
    "    #     save_checkpoint(decoder_model, optimizer, total_iter, checkpoint_path)\n",
    "    #     # Also save as latest checkpoint\n",
    "    #     save_checkpoint(decoder_model, optimizer, total_iter, latest_checkpoint)\n",
    "    #     print(f\"Saved checkpoint at iteration {total_iter}\")\n",
    "    if batch_idx ==50:\n",
    "        break"
   ]
  },
  {
   "cell_type": "code",
   "execution_count": null,
   "metadata": {},
   "outputs": [],
   "source": []
  },
  {
   "cell_type": "code",
   "execution_count": null,
   "metadata": {},
   "outputs": [],
   "source": []
  },
  {
   "cell_type": "code",
   "execution_count": null,
   "metadata": {},
   "outputs": [],
   "source": []
  }
 ],
 "metadata": {
  "kernelspec": {
   "display_name": "Python 3",
   "language": "python",
   "name": "python3"
  },
  "language_info": {
   "codemirror_mode": {
    "name": "ipython",
    "version": 3
   },
   "file_extension": ".py",
   "mimetype": "text/x-python",
   "name": "python",
   "nbconvert_exporter": "python",
   "pygments_lexer": "ipython3",
   "version": "3.12.4"
  }
 },
 "nbformat": 4,
 "nbformat_minor": 2
}
